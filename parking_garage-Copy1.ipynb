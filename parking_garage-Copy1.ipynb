{
 "cells": [
  {
   "cell_type": "code",
   "execution_count": 53,
   "id": "5f503740",
   "metadata": {},
   "outputs": [
    {
     "name": "stdout",
     "output_type": "stream",
     "text": [
      "Welcome to the Parking Garage\n",
      "-------------------------------\n",
      "Enjoy your stay!\n",
      "Take a ticket 2\n",
      "Take a ticket 1\n",
      "Take a ticket 0\n",
      "There are no spots here. Try another garage\n",
      "Please enter the amount owed for parking \n",
      "This is an invalid entry \n",
      "This ticket has not been paid\n",
      "Please enter the amount owed for parking 12\n",
      "Thank you for your payment. You have 15 minutes to leave\n",
      "Thank you. Have a nice day!\n"
     ]
    }
   ],
   "source": [
    "print('''Welcome to the Parking Garage\n",
    "-------------------------------\n",
    "Enjoy your stay!''')\n",
    "class Parking():\n",
    "    def __init__(self,ticket,parking_space):\n",
    "        self.ticket = ticket\n",
    "        self.parking_space = parking_space\n",
    "        self.current_ticket = {}\n",
    "        \n",
    "    def getTicket(self):\n",
    "        if self.ticket > 0 and self.parking_space > 0:\n",
    "            self.ticket -=1\n",
    "            self.parking_space -=1\n",
    "            self.current_ticket[self.ticket]= {\"paid\": False}\n",
    "            print(f\"Take a ticket {self.ticket}\")\n",
    "        else:\n",
    "            print(\"There are no spots here. Try another garage\")\n",
    "            \n",
    "    def parking_paid(self):\n",
    "        owed = input(\"Please enter the amount owed for parking \")\n",
    "        if owed:\n",
    "            self.current_ticket[self.ticket][\"paid\"] = True\n",
    "            print(\"Thank you for your payment. You have 15 minutes to leave\")\n",
    "        else:\n",
    "            print(\"This is an invalid entry \")\n",
    "                \n",
    "    def leave_garage(self):\n",
    "        if self.current_ticket[self.ticket][\"paid\"]:\n",
    "            print('Thank you. Have a nice day!')\n",
    "            del self.current_ticket[self.ticket]\n",
    "            self.ticket +=1\n",
    "            self.parking_space +=1\n",
    "        else:\n",
    "            print(\"This ticket has not been paid\")\n",
    "        \n",
    "                \n",
    "                \n",
    "your_parking = Parking(3,3)\n",
    "your_parking.getTicket()\n",
    "your_parking.getTicket()\n",
    "your_parking.getTicket()\n",
    "your_parking.getTicket()\n",
    "your_parking.parking_paid()\n",
    "your_parking.leave_garage()\n",
    "your_parking.parking_paid()\n",
    "your_parking.leave_garage()"
   ]
  },
  {
   "cell_type": "code",
   "execution_count": null,
   "id": "24b4471d",
   "metadata": {},
   "outputs": [],
   "source": []
  }
 ],
 "metadata": {
  "kernelspec": {
   "display_name": "Python 3 (ipykernel)",
   "language": "python",
   "name": "python3"
  },
  "language_info": {
   "codemirror_mode": {
    "name": "ipython",
    "version": 3
   },
   "file_extension": ".py",
   "mimetype": "text/x-python",
   "name": "python",
   "nbconvert_exporter": "python",
   "pygments_lexer": "ipython3",
   "version": "3.11.3"
  }
 },
 "nbformat": 4,
 "nbformat_minor": 5
}
